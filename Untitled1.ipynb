{
  "nbformat": 4,
  "nbformat_minor": 0,
  "metadata": {
    "colab": {
      "name": "Untitled1.ipynb",
      "provenance": [],
      "authorship_tag": "ABX9TyPVSi8Sxn7i3yQQSGZaxZvU",
      "include_colab_link": true
    },
    "kernelspec": {
      "name": "python3",
      "display_name": "Python 3"
    },
    "language_info": {
      "name": "python"
    }
  },
  "cells": [
    {
      "cell_type": "markdown",
      "metadata": {
        "id": "view-in-github",
        "colab_type": "text"
      },
      "source": [
        "<a href=\"https://colab.research.google.com/github/peggyrose/SQL-Mini-Project-/blob/main/Untitled1.ipynb\" target=\"_parent\"><img src=\"https://colab.research.google.com/assets/colab-badge.svg\" alt=\"Open In Colab\"/></a>"
      ]
    },
    {
      "cell_type": "code",
      "metadata": {
        "colab": {
          "base_uri": "https://localhost:8080/",
          "height": 69
        },
        "id": "rTZvcZIqzhUE",
        "outputId": "3cfdb4c3-312e-4e9d-b4fc-9a69b1f809b5"
      },
      "source": [
        "#first we load the sql extention into our enviroment\n",
        "\n",
        "%load_ext sql\n",
        "\n",
        "#then we connect to our memmory sqlite database\n",
        "%sql sqlite://"
      ],
      "execution_count": 9,
      "outputs": [
        {
          "output_type": "stream",
          "text": [
            "The sql extension is already loaded. To reload it, use:\n",
            "  %reload_ext sql\n"
          ],
          "name": "stdout"
        },
        {
          "output_type": "execute_result",
          "data": {
            "application/vnd.google.colaboratory.intrinsic+json": {
              "type": "string"
            },
            "text/plain": [
              "'Connected: @None'"
            ]
          },
          "metadata": {
            "tags": []
          },
          "execution_count": 9
        }
      ]
    },
    {
      "cell_type": "code",
      "metadata": {
        "id": "tq27TE9N0Mr1"
      },
      "source": [
        "#import pandas library as pd\n",
        "import pandas as pd"
      ],
      "execution_count": 10,
      "outputs": []
    },
    {
      "cell_type": "code",
      "metadata": {
        "id": "yHggEyQj0cSG"
      },
      "source": [
        "#we then load Grand electors by state \n",
        "with open('GrandElectors_by_state.csv','r') as f:\n",
        "    GrandElectors= pd.read_csv(f, index_col=0, encoding='utf-8')\n",
        "%sql DROP TABLE if EXISTS GrandElectors;\n",
        "%sql PERSIST GrandElectors;"
      ],
      "execution_count": null,
      "outputs": []
    }
  ]
}